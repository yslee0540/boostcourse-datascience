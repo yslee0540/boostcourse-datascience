{
 "cells": [
  {
   "cell_type": "markdown",
   "id": "7402a56c-b749-4cef-b30b-5128c5a96487",
   "metadata": {},
   "source": [
    "# 주피터 노트북 사용법\n",
    "* Shift + Enter 키를 누르면 실행되고 커서 다음셀로 이동\n",
    "* Enter 키 누르면 다시 편집상태로 돌아옴\n",
    "* ESC 키 누르고\n",
    "    * a 키를 누르면 위에 셀 추가\n",
    "    * b 키를 누르면 아래에 셀 추가\n",
    "    * dd키를 누르면 셀 삭제\n",
    "    * m 키를 누르면 문서 셀로 변경\n",
    "    * y 키를 누르면 코드 셀로 변경\n",
    "## 마크다운이란?\n",
    "* 코드와 함께 `문서화`할 수 있음\n",
    "```\n",
    "여러 줄의 설명을\n",
    "줄바꿈으로 쓰고자 할 때\n",
    "```"
   ]
  },
  {
   "cell_type": "code",
   "execution_count": null,
   "id": "7583689e-efaf-45a3-8bbe-2510eefae198",
   "metadata": {},
   "outputs": [],
   "source": [
    "print(\"Hello World!\")"
   ]
  },
  {
   "cell_type": "code",
   "execution_count": null,
   "id": "34cd5f1d-ff20-4a9c-961b-8ffeb319438b",
   "metadata": {},
   "outputs": [],
   "source": [
    "a = 1\n",
    "b = 2\n",
    "a + b"
   ]
  },
  {
   "cell_type": "code",
   "execution_count": null,
   "id": "3d8401ea-a1df-4a37-aacc-dd90557072c7",
   "metadata": {},
   "outputs": [],
   "source": []
  }
 ],
 "metadata": {
  "kernelspec": {
   "display_name": "Python 3 (ipykernel)",
   "language": "python",
   "name": "python3"
  },
  "language_info": {
   "codemirror_mode": {
    "name": "ipython",
    "version": 3
   },
   "file_extension": ".py",
   "mimetype": "text/x-python",
   "name": "python",
   "nbconvert_exporter": "python",
   "pygments_lexer": "ipython3",
   "version": "3.12.4"
  }
 },
 "nbformat": 4,
 "nbformat_minor": 5
}
